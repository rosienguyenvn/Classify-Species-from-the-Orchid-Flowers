{
  "nbformat": 4,
  "nbformat_minor": 5,
  "metadata": {
    "colab": {
      "name": "CNN Classification Model for Orchid Flowers.ipynb",
      "provenance": []
    },
    "kernelspec": {
      "display_name": "Python 3 (ipykernel)",
      "language": "python",
      "name": "python3"
    },
    "language_info": {
      "codemirror_mode": {
        "name": "ipython",
        "version": 3
      },
      "file_extension": ".py",
      "mimetype": "text/x-python",
      "name": "python",
      "nbconvert_exporter": "python",
      "pygments_lexer": "ipython3",
      "version": "3.8.11"
    }
  },
  "cells": [
    {
      "cell_type": "markdown",
      "metadata": {
        "id": "2b008a62"
      },
      "source": [
        "# CNN Classification Model to classify Species from the Orchid Flowers\n",
        "## Rosie Nguyen"
      ],
      "id": "2b008a62"
    },
    {
      "cell_type": "markdown",
      "metadata": {
        "id": "c25727fd"
      },
      "source": [
        "* Dataset: https://dataverse.harvard.edu/dataset.xhtml?persistentId=doi:10.7910/DVN/0HNECY\n",
        "* Problem: multi-class classification problem\n",
        "* Output: Multiclass. There are 156 Orchid classes. Each image is assigned to one and only one Orchid class.\n",
        "* Activation in output layer: Softmax because it's good for a multi-class classification problem which there is only one \"right answer\". The outputs are mutually exclusive. The softmax will enforce that the sum of the probabilities of output classes are equal to one, so in order to increase the probability of a particular class, the model must correspondingly decrease the probability of at least one of the other classes.\n",
        "* Loss: sparse_categorical_crossentropy for labels (not categorical_crossentropy, it is for OneHot. With 156 classes, the onehot will be very long)\n",
        "* Loss function: sparse_categorical_crossentropy\n",
        "* Optimizer: Adam\n",
        "* Matrics: Accuracy\n",
        "* Compare with Baseline = largest class"
      ],
      "id": "c25727fd"
    },
    {
      "cell_type": "markdown",
      "metadata": {
        "id": "6895e9c1"
      },
      "source": [
        "## Importing Libraries"
      ],
      "id": "6895e9c1"
    },
    {
      "cell_type": "code",
      "metadata": {
        "id": "dbdf2812"
      },
      "source": [
        "import numpy as np\n",
        "import tensorflow as tf\n",
        "from tensorflow import keras\n",
        "import matplotlib.pyplot as plt\n",
        "from keras.models import Sequential\n",
        "from keras.layers.convolutional import Conv2D\n",
        "from keras.layers.convolutional import MaxPooling2D\n",
        "from keras.layers import Activation\n",
        "from keras.layers import Dropout\n",
        "from keras.layers import Flatten\n",
        "from keras.layers import Dense\n",
        "import os\n",
        "import cv2\n",
        "import pandas as pd\n",
        "from keras.preprocessing.image import ImageDataGenerator\n",
        "from tensorflow.keras import optimizers\n",
        "from keras.layers import BatchNormalization, GlobalAveragePooling2D"
      ],
      "id": "dbdf2812",
      "execution_count": null,
      "outputs": []
    },
    {
      "cell_type": "markdown",
      "metadata": {
        "id": "5b77d1fd"
      },
      "source": [
        "## Importing Data and Preprocessing"
      ],
      "id": "5b77d1fd"
    },
    {
      "cell_type": "code",
      "metadata": {
        "id": "2a192863"
      },
      "source": [
        "train_df = pd.read_csv(r'C:\\Users\\Nhung\\Documents\\BAN 676 Deep Learning\\Assignment\\Orchid Flowers Dataset-v1.1\\Species_Classifier\\Training_Data_for_Species.txt',header = None,dtype=str)\n",
        "valid_df = pd.read_csv(r'C:\\Users\\Nhung\\Documents\\BAN 676 Deep Learning\\Assignment\\Orchid Flowers Dataset-v1.1\\Species_Classifier\\Validation_Data_for_Species.txt',header =None,dtype=str)\n",
        "columns = ['Image_number', 'Species']\n",
        "train_df.columns = columns\n",
        "valid_df.columns = columns"
      ],
      "id": "2a192863",
      "execution_count": null,
      "outputs": []
    },
    {
      "cell_type": "code",
      "metadata": {
        "id": "d2fe0c1b",
        "outputId": "04b4569f-96a7-48cc-d098-6c2194d2e2a8"
      },
      "source": [
        "train_df.head()"
      ],
      "id": "d2fe0c1b",
      "execution_count": null,
      "outputs": [
        {
          "data": {
            "text/html": [
              "<div>\n",
              "<style scoped>\n",
              "    .dataframe tbody tr th:only-of-type {\n",
              "        vertical-align: middle;\n",
              "    }\n",
              "\n",
              "    .dataframe tbody tr th {\n",
              "        vertical-align: top;\n",
              "    }\n",
              "\n",
              "    .dataframe thead th {\n",
              "        text-align: right;\n",
              "    }\n",
              "</style>\n",
              "<table border=\"1\" class=\"dataframe\">\n",
              "  <thead>\n",
              "    <tr style=\"text-align: right;\">\n",
              "      <th></th>\n",
              "      <th>Image_number</th>\n",
              "      <th>Species</th>\n",
              "    </tr>\n",
              "  </thead>\n",
              "  <tbody>\n",
              "    <tr>\n",
              "      <th>0</th>\n",
              "      <td>1.jpg</td>\n",
              "      <td>1</td>\n",
              "    </tr>\n",
              "    <tr>\n",
              "      <th>1</th>\n",
              "      <td>2.jpg</td>\n",
              "      <td>1</td>\n",
              "    </tr>\n",
              "    <tr>\n",
              "      <th>2</th>\n",
              "      <td>3.jpg</td>\n",
              "      <td>1</td>\n",
              "    </tr>\n",
              "    <tr>\n",
              "      <th>3</th>\n",
              "      <td>4.jpg</td>\n",
              "      <td>1</td>\n",
              "    </tr>\n",
              "    <tr>\n",
              "      <th>4</th>\n",
              "      <td>5.jpg</td>\n",
              "      <td>1</td>\n",
              "    </tr>\n",
              "  </tbody>\n",
              "</table>\n",
              "</div>"
            ],
            "text/plain": [
              "  Image_number Species\n",
              "0        1.jpg       1\n",
              "1        2.jpg       1\n",
              "2        3.jpg       1\n",
              "3        4.jpg       1\n",
              "4        5.jpg       1"
            ]
          },
          "execution_count": 107,
          "metadata": {},
          "output_type": "execute_result"
        }
      ]
    },
    {
      "cell_type": "code",
      "metadata": {
        "scrolled": true,
        "id": "50ee669d",
        "outputId": "1bf3a9b7-5c26-4f1a-ed2e-3dc634befb43"
      },
      "source": [
        "train_df.shape"
      ],
      "id": "50ee669d",
      "execution_count": null,
      "outputs": [
        {
          "data": {
            "text/plain": [
              "(5119, 2)"
            ]
          },
          "execution_count": 108,
          "metadata": {},
          "output_type": "execute_result"
        }
      ]
    },
    {
      "cell_type": "code",
      "metadata": {
        "id": "9e0f4d7d",
        "outputId": "b5a5e4c2-11d6-4ef4-8521-7d9bb6821d3f"
      },
      "source": [
        "valid_df.head()"
      ],
      "id": "9e0f4d7d",
      "execution_count": null,
      "outputs": [
        {
          "data": {
            "text/html": [
              "<div>\n",
              "<style scoped>\n",
              "    .dataframe tbody tr th:only-of-type {\n",
              "        vertical-align: middle;\n",
              "    }\n",
              "\n",
              "    .dataframe tbody tr th {\n",
              "        vertical-align: top;\n",
              "    }\n",
              "\n",
              "    .dataframe thead th {\n",
              "        text-align: right;\n",
              "    }\n",
              "</style>\n",
              "<table border=\"1\" class=\"dataframe\">\n",
              "  <thead>\n",
              "    <tr style=\"text-align: right;\">\n",
              "      <th></th>\n",
              "      <th>Image_number</th>\n",
              "      <th>Species</th>\n",
              "    </tr>\n",
              "  </thead>\n",
              "  <tbody>\n",
              "    <tr>\n",
              "      <th>0</th>\n",
              "      <td>25.jpg</td>\n",
              "      <td>1</td>\n",
              "    </tr>\n",
              "    <tr>\n",
              "      <th>1</th>\n",
              "      <td>26.jpg</td>\n",
              "      <td>1</td>\n",
              "    </tr>\n",
              "    <tr>\n",
              "      <th>2</th>\n",
              "      <td>7032.jpg</td>\n",
              "      <td>1</td>\n",
              "    </tr>\n",
              "    <tr>\n",
              "      <th>3</th>\n",
              "      <td>7033.jpg</td>\n",
              "      <td>1</td>\n",
              "    </tr>\n",
              "    <tr>\n",
              "      <th>4</th>\n",
              "      <td>7034.jpg</td>\n",
              "      <td>1</td>\n",
              "    </tr>\n",
              "  </tbody>\n",
              "</table>\n",
              "</div>"
            ],
            "text/plain": [
              "  Image_number Species\n",
              "0       25.jpg       1\n",
              "1       26.jpg       1\n",
              "2     7032.jpg       1\n",
              "3     7033.jpg       1\n",
              "4     7034.jpg       1"
            ]
          },
          "execution_count": 109,
          "metadata": {},
          "output_type": "execute_result"
        }
      ]
    },
    {
      "cell_type": "code",
      "metadata": {
        "id": "1363267d",
        "outputId": "0f002cb3-a2df-4f6e-fb89-016a2f5eb8e1"
      },
      "source": [
        "valid_df.shape"
      ],
      "id": "1363267d",
      "execution_count": null,
      "outputs": [
        {
          "data": {
            "text/plain": [
              "(1235, 2)"
            ]
          },
          "execution_count": 110,
          "metadata": {},
          "output_type": "execute_result"
        }
      ]
    },
    {
      "cell_type": "code",
      "metadata": {
        "id": "de940717",
        "outputId": "a439ff60-d225-48f3-9cf2-85f5d1a1cb70"
      },
      "source": [
        "#check species \n",
        "unique, counts = np.unique(train_df[\"Species\"], return_counts = True)\n",
        "dict(zip(unique, counts))"
      ],
      "id": "de940717",
      "execution_count": null,
      "outputs": [
        {
          "data": {
            "text/plain": [
              "{'1': 24,\n",
              " '10': 12,\n",
              " '100': 107,\n",
              " '101': 3,\n",
              " '102': 2,\n",
              " '103': 20,\n",
              " '104': 21,\n",
              " '105': 9,\n",
              " '106': 98,\n",
              " '107': 46,\n",
              " '108': 37,\n",
              " '109': 9,\n",
              " '11': 179,\n",
              " '110': 92,\n",
              " '111': 28,\n",
              " '112': 10,\n",
              " '113': 14,\n",
              " '114': 21,\n",
              " '115': 16,\n",
              " '116': 20,\n",
              " '117': 74,\n",
              " '118': 37,\n",
              " '119': 26,\n",
              " '12': 122,\n",
              " '120': 12,\n",
              " '121': 3,\n",
              " '122': 3,\n",
              " '123': 10,\n",
              " '124': 4,\n",
              " '125': 121,\n",
              " '126': 12,\n",
              " '127': 17,\n",
              " '128': 85,\n",
              " '129': 64,\n",
              " '13': 29,\n",
              " '130': 31,\n",
              " '131': 8,\n",
              " '132': 9,\n",
              " '133': 82,\n",
              " '134': 10,\n",
              " '135': 45,\n",
              " '136': 4,\n",
              " '137': 18,\n",
              " '138': 3,\n",
              " '139': 32,\n",
              " '14': 2,\n",
              " '140': 4,\n",
              " '141': 61,\n",
              " '142': 10,\n",
              " '143': 14,\n",
              " '144': 10,\n",
              " '145': 80,\n",
              " '146': 7,\n",
              " '147': 5,\n",
              " '148': 8,\n",
              " '149': 12,\n",
              " '15': 16,\n",
              " '150': 11,\n",
              " '151': 36,\n",
              " '152': 4,\n",
              " '153': 4,\n",
              " '154': 5,\n",
              " '155': 12,\n",
              " '156': 37,\n",
              " '16': 3,\n",
              " '17': 24,\n",
              " '18': 9,\n",
              " '19': 176,\n",
              " '2': 11,\n",
              " '20': 42,\n",
              " '21': 20,\n",
              " '22': 78,\n",
              " '23': 101,\n",
              " '24': 46,\n",
              " '25': 6,\n",
              " '26': 21,\n",
              " '27': 239,\n",
              " '28': 49,\n",
              " '29': 29,\n",
              " '3': 77,\n",
              " '30': 31,\n",
              " '31': 25,\n",
              " '32': 45,\n",
              " '33': 268,\n",
              " '34': 15,\n",
              " '35': 104,\n",
              " '36': 5,\n",
              " '37': 12,\n",
              " '38': 3,\n",
              " '39': 15,\n",
              " '4': 2,\n",
              " '40': 1,\n",
              " '41': 18,\n",
              " '42': 2,\n",
              " '43': 2,\n",
              " '44': 1,\n",
              " '45': 60,\n",
              " '46': 8,\n",
              " '47': 13,\n",
              " '48': 15,\n",
              " '49': 12,\n",
              " '5': 19,\n",
              " '50': 109,\n",
              " '51': 68,\n",
              " '52': 83,\n",
              " '53': 138,\n",
              " '54': 24,\n",
              " '55': 7,\n",
              " '56': 106,\n",
              " '57': 1,\n",
              " '58': 11,\n",
              " '59': 64,\n",
              " '6': 3,\n",
              " '60': 56,\n",
              " '61': 35,\n",
              " '62': 72,\n",
              " '63': 20,\n",
              " '64': 112,\n",
              " '65': 15,\n",
              " '66': 9,\n",
              " '67': 17,\n",
              " '68': 12,\n",
              " '69': 5,\n",
              " '7': 18,\n",
              " '70': 8,\n",
              " '71': 2,\n",
              " '72': 36,\n",
              " '73': 24,\n",
              " '74': 9,\n",
              " '75': 14,\n",
              " '76': 7,\n",
              " '77': 8,\n",
              " '78': 26,\n",
              " '79': 15,\n",
              " '8': 21,\n",
              " '80': 14,\n",
              " '81': 24,\n",
              " '82': 3,\n",
              " '83': 1,\n",
              " '84': 3,\n",
              " '85': 1,\n",
              " '86': 1,\n",
              " '87': 13,\n",
              " '88': 1,\n",
              " '89': 19,\n",
              " '9': 1,\n",
              " '90': 8,\n",
              " '91': 41,\n",
              " '92': 42,\n",
              " '93': 16,\n",
              " '94': 30,\n",
              " '95': 28,\n",
              " '96': 80,\n",
              " '97': 11,\n",
              " '98': 2,\n",
              " '99': 51}"
            ]
          },
          "execution_count": 111,
          "metadata": {},
          "output_type": "execute_result"
        }
      ]
    },
    {
      "cell_type": "markdown",
      "metadata": {
        "id": "82f9dcbf"
      },
      "source": [
        "**In the training and test data, some species, such as 11, 19, 100, 125... has a lot more samples than other species. This is one of the reason why we use Data Augmentation later**"
      ],
      "id": "82f9dcbf"
    },
    {
      "cell_type": "markdown",
      "metadata": {
        "id": "5f98b2cf"
      },
      "source": [
        "## Data Augmentation"
      ],
      "id": "5f98b2cf"
    },
    {
      "cell_type": "markdown",
      "metadata": {
        "id": "2c4a42da"
      },
      "source": [
        "The dataset is quite small. With 7156 images of orchid flowers and consists of 156 orchid species. On avarage, there are about 46 images for each specie. We want to use data augmentation to increase the amount of data by adding slightly modified copies of already existing data or newly created synthetic data from existing data. It acts as a regularizer and helps reduce overfitting when training a machine learning model."
      ],
      "id": "2c4a42da"
    },
    {
      "cell_type": "code",
      "metadata": {
        "id": "3e0f0456"
      },
      "source": [
        "# Augment with rotated, shifted, flipped, images\n",
        "\n",
        "train_datagen = ImageDataGenerator(\n",
        "    rescale=1./255,\n",
        "    featurewise_center=True,\n",
        "    featurewise_std_normalization=True,\n",
        "    rotation_range=20,\n",
        "    width_shift_range=0.2,\n",
        "    height_shift_range=0.2,\n",
        "    horizontal_flip=True,\n",
        ")"
      ],
      "id": "3e0f0456",
      "execution_count": null,
      "outputs": []
    },
    {
      "cell_type": "code",
      "metadata": {
        "id": "443a7c10"
      },
      "source": [
        "test_datagen = ImageDataGenerator(rescale=1./255)"
      ],
      "id": "443a7c10",
      "execution_count": null,
      "outputs": []
    },
    {
      "cell_type": "code",
      "metadata": {
        "id": "26b7afd7",
        "outputId": "db44f4af-aafd-46de-e992-fd4be5c311d9"
      },
      "source": [
        "train_generator=train_datagen.flow_from_dataframe(\n",
        "dataframe=train_df,\n",
        "directory=\"Orchid_Images\",\n",
        "x_col=\"Image_number\",\n",
        "y_col=\"Species\",\n",
        "subset=None,\n",
        "batch_size=32,\n",
        "seed=42,\n",
        "shuffle=True,\n",
        "class_mode=\"sparse\",\n",
        "save_format=\"png\",\n",
        "target_size=(32,32))\n",
        "\n",
        "\n",
        "valid_generator=test_datagen.flow_from_dataframe(\n",
        "dataframe=valid_df,\n",
        "directory=\"Orchid_Images\",\n",
        "x_col=\"Image_number\",\n",
        "y_col=\"Species\",\n",
        "subset=None,\n",
        "batch_size=32,\n",
        "seed=42,\n",
        "shuffle=True,\n",
        "save_format=\"png\",\n",
        "class_mode=\"sparse\",\n",
        "target_size=(32,32))"
      ],
      "id": "26b7afd7",
      "execution_count": null,
      "outputs": [
        {
          "name": "stdout",
          "output_type": "stream",
          "text": [
            "Found 5119 validated image filenames belonging to 156 classes.\n",
            "Found 1235 validated image filenames belonging to 156 classes.\n"
          ]
        }
      ]
    },
    {
      "cell_type": "markdown",
      "metadata": {
        "id": "d94aa3a9"
      },
      "source": [
        "## Naive model"
      ],
      "id": "d94aa3a9"
    },
    {
      "cell_type": "code",
      "metadata": {
        "id": "d4f32734",
        "outputId": "bf990ece-b1bd-41f0-d6bf-5f8a9dac1b3b"
      },
      "source": [
        "#accuracy for the training dataset\n",
        "train_df = pd.read_csv(r'C:\\Users\\Nhung\\Documents\\America\\CSUEB\\BAN 676 Deep Learning\\Assignment\\Orchid Flowers Dataset-v1.1\\Species_Classifier\\Training_Data_for_Species.txt',sep=',', header = None, dtype=str)\n",
        "train_df.columns = [\"Image\", \"Label\"]\n",
        "max(train_df['Label'].value_counts())/len(train_df['Label'])"
      ],
      "id": "d4f32734",
      "execution_count": null,
      "outputs": [
        {
          "data": {
            "text/plain": [
              "0.05235397538581754"
            ]
          },
          "execution_count": 115,
          "metadata": {},
          "output_type": "execute_result"
        }
      ]
    },
    {
      "cell_type": "markdown",
      "metadata": {
        "id": "4f276e84"
      },
      "source": [
        "#### Baseline performance  for the Oschid Flower Dataset is ~ 5.23%. This is very low"
      ],
      "id": "4f276e84"
    },
    {
      "cell_type": "markdown",
      "metadata": {
        "id": "97ba830b"
      },
      "source": [
        "## a.\tBuilding Model 1 from scratch using CNN layers"
      ],
      "id": "97ba830b"
    },
    {
      "cell_type": "code",
      "metadata": {
        "id": "86290b4f"
      },
      "source": [
        "#from keras.layers import BatchNormalization\n",
        "model = Sequential()\n",
        "model.add(Conv2D(32, (3, 3), padding='same', input_shape=(32,32,3)))\n",
        "#model.add(BatchNormalization())\n",
        "model.add(Activation('relu'))\n",
        "model.add(Conv2D(32,(3, 3)))\n",
        "#model.add(BatchNormalization())\n",
        "model.add(Activation('relu'))\n",
        "model.add(MaxPooling2D(pool_size=(2, 2)))\n",
        "model.add(Dropout(0.25))\n",
        "\n",
        "model.add(Conv2D(32, (3, 3), padding='same'))\n",
        "#model.add(BatchNormalization())\n",
        "model.add(Activation('relu'))\n",
        "model.add(Conv2D(32, (3,3)))\n",
        "#model.add(BatchNormalization())\n",
        "model.add(Activation('relu'))\n",
        "model.add(MaxPooling2D(pool_size=(2, 2)))\n",
        "model.add(Dropout(0.25))\n",
        "\n",
        "model.add(Flatten())\n",
        "model.add(Dense(512))\n",
        "#model.add(BatchNormalization())\n",
        "model.add(Activation('relu'))\n",
        "model.add(Dropout(0.5))\n",
        "# Output classes are 156\n",
        "model.add(Dense(156))\n",
        "model.add(Activation('softmax'))"
      ],
      "id": "86290b4f",
      "execution_count": null,
      "outputs": []
    },
    {
      "cell_type": "code",
      "metadata": {
        "id": "00fb2d3a",
        "outputId": "6ff23811-b2e6-4613-cfcb-da067db533c1"
      },
      "source": [
        "model.summary()"
      ],
      "id": "00fb2d3a",
      "execution_count": null,
      "outputs": [
        {
          "name": "stdout",
          "output_type": "stream",
          "text": [
            "Model: \"sequential_12\"\n",
            "_________________________________________________________________\n",
            "Layer (type)                 Output Shape              Param #   \n",
            "=================================================================\n",
            "conv2d_4 (Conv2D)            (None, 32, 32, 32)        896       \n",
            "_________________________________________________________________\n",
            "activation_24 (Activation)   (None, 32, 32, 32)        0         \n",
            "_________________________________________________________________\n",
            "conv2d_5 (Conv2D)            (None, 30, 30, 32)        9248      \n",
            "_________________________________________________________________\n",
            "activation_25 (Activation)   (None, 30, 30, 32)        0         \n",
            "_________________________________________________________________\n",
            "max_pooling2d_32 (MaxPooling (None, 15, 15, 32)        0         \n",
            "_________________________________________________________________\n",
            "dropout_18 (Dropout)         (None, 15, 15, 32)        0         \n",
            "_________________________________________________________________\n",
            "conv2d_6 (Conv2D)            (None, 15, 15, 32)        9248      \n",
            "_________________________________________________________________\n",
            "activation_26 (Activation)   (None, 15, 15, 32)        0         \n",
            "_________________________________________________________________\n",
            "conv2d_7 (Conv2D)            (None, 13, 13, 32)        9248      \n",
            "_________________________________________________________________\n",
            "activation_27 (Activation)   (None, 13, 13, 32)        0         \n",
            "_________________________________________________________________\n",
            "max_pooling2d_33 (MaxPooling (None, 6, 6, 32)          0         \n",
            "_________________________________________________________________\n",
            "dropout_19 (Dropout)         (None, 6, 6, 32)          0         \n",
            "_________________________________________________________________\n",
            "flatten_7 (Flatten)          (None, 1152)              0         \n",
            "_________________________________________________________________\n",
            "dense_20 (Dense)             (None, 512)               590336    \n",
            "_________________________________________________________________\n",
            "activation_28 (Activation)   (None, 512)               0         \n",
            "_________________________________________________________________\n",
            "dropout_20 (Dropout)         (None, 512)               0         \n",
            "_________________________________________________________________\n",
            "dense_21 (Dense)             (None, 156)               80028     \n",
            "_________________________________________________________________\n",
            "activation_29 (Activation)   (None, 156)               0         \n",
            "=================================================================\n",
            "Total params: 699,004\n",
            "Trainable params: 699,004\n",
            "Non-trainable params: 0\n",
            "_________________________________________________________________\n"
          ]
        }
      ]
    },
    {
      "cell_type": "code",
      "metadata": {
        "id": "9ee3752f"
      },
      "source": [
        "optimizer = keras.optimizers.RMSprop(learning_rate=0.0003, decay=1e-6)\n",
        "model.compile(optimizer,loss=\"sparse_categorical_crossentropy\",metrics=[\"accuracy\"])"
      ],
      "id": "9ee3752f",
      "execution_count": null,
      "outputs": []
    },
    {
      "cell_type": "code",
      "metadata": {
        "id": "148ae55b"
      },
      "source": [
        "STEP_SIZE_TRAIN=train_generator.n//train_generator.batch_size\n",
        "STEP_SIZE_VALID=valid_generator.n//valid_generator.batch_size"
      ],
      "id": "148ae55b",
      "execution_count": null,
      "outputs": []
    },
    {
      "cell_type": "code",
      "metadata": {
        "id": "ce4f0ddc",
        "outputId": "ce4ecfae-dd98-4b95-f09e-5f55da71d812"
      },
      "source": [
        "history= model.fit_generator(generator=train_generator,\n",
        "                    steps_per_epoch=STEP_SIZE_TRAIN,\n",
        "                    validation_data=valid_generator,\n",
        "                    validation_steps=STEP_SIZE_VALID,\n",
        "                    epochs=50\n",
        ")"
      ],
      "id": "ce4f0ddc",
      "execution_count": null,
      "outputs": [
        {
          "name": "stderr",
          "output_type": "stream",
          "text": [
            "C:\\anaconda3\\envs\\tensorflow\\lib\\site-packages\\keras_preprocessing\\image\\image_data_generator.py:720: UserWarning: This ImageDataGenerator specifies `featurewise_center`, but it hasn't been fit on any training data. Fit it first by calling `.fit(numpy_data)`.\n",
            "  warnings.warn('This ImageDataGenerator specifies '\n",
            "C:\\anaconda3\\envs\\tensorflow\\lib\\site-packages\\keras_preprocessing\\image\\image_data_generator.py:728: UserWarning: This ImageDataGenerator specifies `featurewise_std_normalization`, but it hasn't been fit on any training data. Fit it first by calling `.fit(numpy_data)`.\n",
            "  warnings.warn('This ImageDataGenerator specifies '\n"
          ]
        },
        {
          "name": "stdout",
          "output_type": "stream",
          "text": [
            "Epoch 1/50\n",
            "159/159 [==============================] - 42s 266ms/step - loss: 4.6053 - accuracy: 0.0515 - val_loss: 4.3478 - val_accuracy: 0.0913\n",
            "Epoch 2/50\n",
            "159/159 [==============================] - 61s 381ms/step - loss: 4.3344 - accuracy: 0.0812 - val_loss: 4.1924 - val_accuracy: 0.1069\n",
            "Epoch 3/50\n",
            "159/159 [==============================] - 84s 525ms/step - loss: 4.2028 - accuracy: 0.0965 - val_loss: 4.1093 - val_accuracy: 0.1225\n",
            "Epoch 4/50\n",
            "159/159 [==============================] - 73s 461ms/step - loss: 4.0858 - accuracy: 0.1156 - val_loss: 3.9520 - val_accuracy: 0.1587\n",
            "Epoch 5/50\n",
            "159/159 [==============================] - 60s 377ms/step - loss: 3.9851 - accuracy: 0.1290 - val_loss: 3.8826 - val_accuracy: 0.1620\n",
            "Epoch 6/50\n",
            "159/159 [==============================] - 53s 332ms/step - loss: 3.8952 - accuracy: 0.1297 - val_loss: 3.8386 - val_accuracy: 0.1595\n",
            "Epoch 7/50\n",
            "159/159 [==============================] - 49s 309ms/step - loss: 3.8167 - accuracy: 0.1417 - val_loss: 3.7097 - val_accuracy: 0.1842\n",
            "Epoch 8/50\n",
            "159/159 [==============================] - 48s 301ms/step - loss: 3.7574 - accuracy: 0.1561 - val_loss: 3.6064 - val_accuracy: 0.2188\n",
            "Epoch 9/50\n",
            "159/159 [==============================] - 48s 299ms/step - loss: 3.6857 - accuracy: 0.1706 - val_loss: 3.5689 - val_accuracy: 0.2204\n",
            "Epoch 10/50\n",
            "159/159 [==============================] - 48s 301ms/step - loss: 3.6429 - accuracy: 0.1775 - val_loss: 3.5659 - val_accuracy: 0.2113\n",
            "Epoch 11/50\n",
            "159/159 [==============================] - 48s 305ms/step - loss: 3.5911 - accuracy: 0.1885 - val_loss: 3.5374 - val_accuracy: 0.2089\n",
            "Epoch 12/50\n",
            "159/159 [==============================] - 54s 338ms/step - loss: 3.5578 - accuracy: 0.1911 - val_loss: 3.5839 - val_accuracy: 0.2138\n",
            "Epoch 13/50\n",
            "159/159 [==============================] - 65s 409ms/step - loss: 3.4951 - accuracy: 0.1983 - val_loss: 3.4020 - val_accuracy: 0.2434\n",
            "Epoch 14/50\n",
            "159/159 [==============================] - 54s 341ms/step - loss: 3.4628 - accuracy: 0.2086 - val_loss: 3.5204 - val_accuracy: 0.2245\n",
            "Epoch 15/50\n",
            "159/159 [==============================] - 55s 346ms/step - loss: 3.4275 - accuracy: 0.2162 - val_loss: 3.4388 - val_accuracy: 0.2401\n",
            "Epoch 16/50\n",
            "159/159 [==============================] - 52s 328ms/step - loss: 3.4056 - accuracy: 0.2117 - val_loss: 3.5353 - val_accuracy: 0.2204\n",
            "Epoch 17/50\n",
            "159/159 [==============================] - 45s 283ms/step - loss: 3.3761 - accuracy: 0.2213 - val_loss: 3.3839 - val_accuracy: 0.2484\n",
            "Epoch 18/50\n",
            "159/159 [==============================] - 47s 294ms/step - loss: 3.3413 - accuracy: 0.2284 - val_loss: 3.3431 - val_accuracy: 0.2434\n",
            "Epoch 19/50\n",
            "159/159 [==============================] - 47s 293ms/step - loss: 3.3071 - accuracy: 0.2363 - val_loss: 3.2975 - val_accuracy: 0.2673\n",
            "Epoch 20/50\n",
            "159/159 [==============================] - 46s 287ms/step - loss: 3.2894 - accuracy: 0.2367 - val_loss: 3.2702 - val_accuracy: 0.2656\n",
            "Epoch 21/50\n",
            "159/159 [==============================] - 45s 282ms/step - loss: 3.2643 - accuracy: 0.2412 - val_loss: 3.2507 - val_accuracy: 0.2640\n",
            "Epoch 22/50\n",
            "159/159 [==============================] - 46s 286ms/step - loss: 3.2450 - accuracy: 0.2483 - val_loss: 3.2179 - val_accuracy: 0.2706\n",
            "Epoch 23/50\n",
            "159/159 [==============================] - 44s 278ms/step - loss: 3.2226 - accuracy: 0.2506 - val_loss: 3.2490 - val_accuracy: 0.2558\n",
            "Epoch 24/50\n",
            "159/159 [==============================] - 45s 281ms/step - loss: 3.1951 - accuracy: 0.2504 - val_loss: 3.1583 - val_accuracy: 0.2878\n",
            "Epoch 25/50\n",
            "159/159 [==============================] - 50s 314ms/step - loss: 3.1821 - accuracy: 0.2599 - val_loss: 3.1651 - val_accuracy: 0.2763\n",
            "Epoch 26/50\n",
            "159/159 [==============================] - 46s 288ms/step - loss: 3.1702 - accuracy: 0.2528 - val_loss: 3.2772 - val_accuracy: 0.2607\n",
            "Epoch 27/50\n",
            "159/159 [==============================] - 47s 295ms/step - loss: 3.1443 - accuracy: 0.2605 - val_loss: 3.3408 - val_accuracy: 0.2747\n",
            "Epoch 28/50\n",
            "159/159 [==============================] - 45s 285ms/step - loss: 3.1442 - accuracy: 0.2577 - val_loss: 3.2182 - val_accuracy: 0.2738\n",
            "Epoch 29/50\n",
            "159/159 [==============================] - 46s 287ms/step - loss: 3.1206 - accuracy: 0.2613 - val_loss: 3.2048 - val_accuracy: 0.2804\n",
            "Epoch 30/50\n",
            "159/159 [==============================] - 44s 275ms/step - loss: 3.0926 - accuracy: 0.2681 - val_loss: 3.2734 - val_accuracy: 0.2656\n",
            "Epoch 31/50\n",
            "159/159 [==============================] - 45s 280ms/step - loss: 3.1079 - accuracy: 0.2585 - val_loss: 3.1449 - val_accuracy: 0.2845\n",
            "Epoch 32/50\n",
            "159/159 [==============================] - 45s 282ms/step - loss: 3.0622 - accuracy: 0.2664 - val_loss: 3.1233 - val_accuracy: 0.2870\n",
            "Epoch 33/50\n",
            "159/159 [==============================] - 47s 293ms/step - loss: 3.0608 - accuracy: 0.2791 - val_loss: 3.1290 - val_accuracy: 0.2911\n",
            "Epoch 34/50\n",
            "159/159 [==============================] - 45s 282ms/step - loss: 3.0490 - accuracy: 0.2789 - val_loss: 3.0596 - val_accuracy: 0.3010\n",
            "Epoch 35/50\n",
            "159/159 [==============================] - 45s 283ms/step - loss: 3.0360 - accuracy: 0.2858 - val_loss: 3.0950 - val_accuracy: 0.2961\n",
            "Epoch 36/50\n",
            "159/159 [==============================] - 45s 284ms/step - loss: 3.0347 - accuracy: 0.2801 - val_loss: 3.1616 - val_accuracy: 0.2862\n",
            "Epoch 37/50\n",
            "159/159 [==============================] - 45s 280ms/step - loss: 3.0303 - accuracy: 0.2882 - val_loss: 3.0834 - val_accuracy: 0.2878\n",
            "Epoch 38/50\n",
            "159/159 [==============================] - 50s 315ms/step - loss: 3.0180 - accuracy: 0.2868 - val_loss: 3.1696 - val_accuracy: 0.2845\n",
            "Epoch 39/50\n",
            "159/159 [==============================] - 46s 288ms/step - loss: 2.9940 - accuracy: 0.2835 - val_loss: 3.0025 - val_accuracy: 0.3035\n",
            "Epoch 40/50\n",
            "159/159 [==============================] - 43s 272ms/step - loss: 2.9827 - accuracy: 0.2862 - val_loss: 3.1006 - val_accuracy: 0.2887\n",
            "Epoch 41/50\n",
            "159/159 [==============================] - 46s 289ms/step - loss: 2.9919 - accuracy: 0.2925 - val_loss: 3.0529 - val_accuracy: 0.3084\n",
            "Epoch 42/50\n",
            "159/159 [==============================] - 45s 285ms/step - loss: 2.9613 - accuracy: 0.2949 - val_loss: 3.0905 - val_accuracy: 0.2837\n",
            "Epoch 43/50\n",
            "159/159 [==============================] - 45s 280ms/step - loss: 2.9505 - accuracy: 0.2994 - val_loss: 3.0837 - val_accuracy: 0.3035\n",
            "Epoch 44/50\n",
            "159/159 [==============================] - 44s 280ms/step - loss: 2.9342 - accuracy: 0.2984 - val_loss: 3.0811 - val_accuracy: 0.2961\n",
            "Epoch 45/50\n",
            "159/159 [==============================] - 45s 283ms/step - loss: 2.9283 - accuracy: 0.2996 - val_loss: 3.0579 - val_accuracy: 0.2911\n",
            "Epoch 46/50\n",
            "159/159 [==============================] - 45s 284ms/step - loss: 2.9193 - accuracy: 0.2998 - val_loss: 3.0061 - val_accuracy: 0.3289\n",
            "Epoch 47/50\n",
            "159/159 [==============================] - 45s 283ms/step - loss: 2.9154 - accuracy: 0.2970 - val_loss: 3.1956 - val_accuracy: 0.2837\n",
            "Epoch 48/50\n",
            "159/159 [==============================] - 45s 285ms/step - loss: 2.9075 - accuracy: 0.3055 - val_loss: 3.0205 - val_accuracy: 0.3166\n",
            "Epoch 49/50\n",
            "159/159 [==============================] - 45s 282ms/step - loss: 2.9008 - accuracy: 0.3067 - val_loss: 3.0080 - val_accuracy: 0.3100\n",
            "Epoch 50/50\n",
            "159/159 [==============================] - 44s 279ms/step - loss: 2.8739 - accuracy: 0.3075 - val_loss: 3.0231 - val_accuracy: 0.3224\n"
          ]
        }
      ]
    },
    {
      "cell_type": "code",
      "metadata": {
        "id": "632791e7",
        "outputId": "a51145ab-a25b-462b-d8d3-fda8c83e40ab"
      },
      "source": [
        "print(\"Accuracy of the Basic Model = \",max(history.history[\"accuracy\"]))\n",
        "print(\"Loss of the Basic Model = \",max(history.history[\"loss\"]))"
      ],
      "id": "632791e7",
      "execution_count": null,
      "outputs": [
        {
          "name": "stdout",
          "output_type": "stream",
          "text": [
            "Accuracy of the Basic Model =  0.3074503540992737\n",
            "Loss of the Basic Model =  4.605329990386963\n"
          ]
        }
      ]
    },
    {
      "cell_type": "markdown",
      "metadata": {
        "id": "a3e91eaa"
      },
      "source": [
        "### Plot results of accuracy"
      ],
      "id": "a3e91eaa"
    },
    {
      "cell_type": "code",
      "metadata": {
        "id": "af08de60",
        "outputId": "d691edff-31e4-4005-ff1f-2090d9b708f2"
      },
      "source": [
        "def plot_history1(history):\n",
        "  plt.figure()\n",
        "  plt.xlabel('Epoch')\n",
        "  plt.ylabel('Accuracy')\n",
        "  plt.plot(history.epoch, np.array(history.history['accuracy']),\n",
        "           label='Train accuracy')\n",
        "  plt.plot(history.epoch, np.array(history.history['val_accuracy']),\n",
        "           label = 'Val accuracy')\n",
        "  plt.legend()\n",
        "  plt.ylim([0, 0.5])\n",
        "\n",
        "plot_history1(history)"
      ],
      "id": "af08de60",
      "execution_count": null,
      "outputs": [
        {
          "data": {
            "image/png": "[encoded data removed]",
            "text/plain": [
              "<Figure size 432x288 with 1 Axes>"
            ]
          },
          "metadata": {
            "needs_background": "light"
          },
          "output_type": "display_data"
        }
      ]
    },
    {
      "cell_type": "markdown",
      "metadata": {
        "id": "41ebb2d3"
      },
      "source": [
        "**From the plot results of accuracy, train accuracy is higher than val accuracy => this is overfitting.**"
      ],
      "id": "41ebb2d3"
    },
    {
      "cell_type": "markdown",
      "metadata": {
        "id": "4c6b1795"
      },
      "source": [
        "### Plot results of loss"
      ],
      "id": "4c6b1795"
    },
    {
      "cell_type": "code",
      "metadata": {
        "id": "91b1b09b",
        "outputId": "38cc508d-a0b3-4112-80c0-48c53b4f8296"
      },
      "source": [
        "def plot_history2(history):\n",
        "  plt.figure()\n",
        "  plt.xlabel('Epoch')\n",
        "  plt.ylabel('loss')\n",
        "  plt.plot(history.epoch, np.array(history.history['loss']),\n",
        "           label='Train loss')\n",
        "  plt.plot(history.epoch, np.array(history.history['val_loss']),\n",
        "           label = 'Val loss')\n",
        "  plt.legend()\n",
        "  plt.ylim([0, 5])\n",
        "\n",
        "plot_history2(history)"
      ],
      "id": "91b1b09b",
      "execution_count": null,
      "outputs": [
        {
          "data": {
            "image/png": "[encoded data removed]",
            "text/plain": [
              "<Figure size 432x288 with 1 Axes>"
            ]
          },
          "metadata": {
            "needs_background": "light"
          },
          "output_type": "display_data"
        }
      ]
    },
    {
      "cell_type": "markdown",
      "metadata": {
        "id": "9316cf6e"
      },
      "source": [
        "**From the plot results for loss, val loss is higher than train loss => the model is overfitting**"
      ],
      "id": "9316cf6e"
    },
    {
      "cell_type": "markdown",
      "metadata": {
        "id": "22ecb813"
      },
      "source": [
        "### Compare the Basic model with Naive model:\n",
        "\n",
        "**The highest accuracy for basic model is 36% at epoch 42. The badic model is overfitting**\n",
        "**To imporve the basic model, we can do the following:**\n",
        "- Early stopping: Stop training when a monitored metric has stopped improving.\n",
        "- Node, layers: try different number of neurons in the hidden layer and numbers of hidden layers\n",
        "- Change % Dropout: Probabilistically remove inputs during training.\n",
        "\n",
        "**The basic model has higher accuracy than Naive model ( 36% > 5.23%) so we can tell that basic model is better than Naive model**"
      ],
      "id": "22ecb813"
    },
    {
      "cell_type": "markdown",
      "metadata": {
        "id": "52243515"
      },
      "source": [
        "## b.\tModel 2: Use Transfer learning\n"
      ],
      "id": "52243515"
    },
    {
      "cell_type": "code",
      "metadata": {
        "id": "385e6ffa"
      },
      "source": [
        "base_model = tf.keras.applications.ResNet50V2(input_shape=(32,32,3),\n",
        "                                              include_top=False,\n",
        "                                              weights='imagenet')\n",
        "base_model.trainable = False\n",
        "model_tl = Sequential()\n",
        "model_tl.add(base_model)\n",
        "model_tl.add(GlobalAveragePooling2D())\n",
        "model_tl.add(Dense(512))\n",
        "model_tl.add(Activation('relu'))\n",
        "model_tl.add(Dropout(0.5))\n",
        "model_tl.add(Dense(156))\n",
        "model_tl.add(Activation('softmax'))"
      ],
      "id": "385e6ffa",
      "execution_count": null,
      "outputs": []
    },
    {
      "cell_type": "code",
      "metadata": {
        "id": "0a0b4168"
      },
      "source": [
        "optimizer = tf.keras.optimizers.Adam()\n",
        "model_tl.compile(optimizer, \n",
        "              loss='sparse_categorical_crossentropy',\n",
        "              metrics=['accuracy'])"
      ],
      "id": "0a0b4168",
      "execution_count": null,
      "outputs": []
    },
    {
      "cell_type": "code",
      "metadata": {
        "id": "b9c20353"
      },
      "source": [
        "STEP_SIZE_TRAIN=train_generator.n//train_generator.batch_size\n",
        "STEP_SIZE_VALID=valid_generator.n//valid_generator.batch_size"
      ],
      "id": "b9c20353",
      "execution_count": null,
      "outputs": []
    },
    {
      "cell_type": "code",
      "metadata": {
        "scrolled": true,
        "id": "28696c84",
        "outputId": "ca51cdc3-d288-4c4b-8b39-3d3d255a6d56"
      },
      "source": [
        "history_tl= model_tl.fit_generator(generator=train_generator,\n",
        "                    steps_per_epoch=STEP_SIZE_TRAIN,\n",
        "                    validation_data=valid_generator,\n",
        "                    validation_steps=STEP_SIZE_VALID,\n",
        "                    epochs=50\n",
        ")"
      ],
      "id": "28696c84",
      "execution_count": null,
      "outputs": [
        {
          "name": "stderr",
          "output_type": "stream",
          "text": [
            "C:\\anaconda3\\envs\\tensorflow\\lib\\site-packages\\keras_preprocessing\\image\\image_data_generator.py:720: UserWarning: This ImageDataGenerator specifies `featurewise_center`, but it hasn't been fit on any training data. Fit it first by calling `.fit(numpy_data)`.\n",
            "  warnings.warn('This ImageDataGenerator specifies '\n",
            "C:\\anaconda3\\envs\\tensorflow\\lib\\site-packages\\keras_preprocessing\\image\\image_data_generator.py:728: UserWarning: This ImageDataGenerator specifies `featurewise_std_normalization`, but it hasn't been fit on any training data. Fit it first by calling `.fit(numpy_data)`.\n",
            "  warnings.warn('This ImageDataGenerator specifies '\n"
          ]
        },
        {
          "name": "stdout",
          "output_type": "stream",
          "text": [
            "Epoch 1/50\n",
            "159/159 [==============================] - 89s 562ms/step - loss: 4.5737 - accuracy: 0.0588 - val_loss: 4.3490 - val_accuracy: 0.0748\n",
            "Epoch 2/50\n",
            "159/159 [==============================] - 81s 509ms/step - loss: 4.2871 - accuracy: 0.0786 - val_loss: 4.2744 - val_accuracy: 0.0979\n",
            "Epoch 3/50\n",
            "159/159 [==============================] - 83s 521ms/step - loss: 4.1980 - accuracy: 0.0914 - val_loss: 4.2278 - val_accuracy: 0.0880\n",
            "Epoch 4/50\n",
            "159/159 [==============================] - 84s 530ms/step - loss: 4.1243 - accuracy: 0.1016 - val_loss: 4.1779 - val_accuracy: 0.0970\n",
            "Epoch 5/50\n",
            "159/159 [==============================] - 82s 516ms/step - loss: 4.0783 - accuracy: 0.1028 - val_loss: 4.1598 - val_accuracy: 0.1094\n",
            "Epoch 6/50\n",
            "159/159 [==============================] - 84s 526ms/step - loss: 4.0411 - accuracy: 0.1095 - val_loss: 4.1308 - val_accuracy: 0.1176\n",
            "Epoch 7/50\n",
            "159/159 [==============================] - 84s 528ms/step - loss: 4.0368 - accuracy: 0.1050 - val_loss: 4.0968 - val_accuracy: 0.1143\n",
            "Epoch 8/50\n",
            "159/159 [==============================] - 86s 543ms/step - loss: 3.9956 - accuracy: 0.1012 - val_loss: 4.0925 - val_accuracy: 0.1036\n",
            "Epoch 9/50\n",
            "159/159 [==============================] - 91s 575ms/step - loss: 3.9563 - accuracy: 0.1156 - val_loss: 4.0990 - val_accuracy: 0.1234\n",
            "Epoch 10/50\n",
            "159/159 [==============================] - 91s 572ms/step - loss: 3.9721 - accuracy: 0.1174 - val_loss: 4.0819 - val_accuracy: 0.1118\n",
            "Epoch 11/50\n",
            "159/159 [==============================] - 84s 525ms/step - loss: 3.9392 - accuracy: 0.1199 - val_loss: 4.0764 - val_accuracy: 0.1151\n",
            "Epoch 12/50\n",
            "159/159 [==============================] - 78s 493ms/step - loss: 3.9072 - accuracy: 0.1256 - val_loss: 4.0866 - val_accuracy: 0.1275\n",
            "Epoch 13/50\n",
            "159/159 [==============================] - 79s 500ms/step - loss: 3.8848 - accuracy: 0.1235 - val_loss: 4.0826 - val_accuracy: 0.1184\n",
            "Epoch 14/50\n",
            "159/159 [==============================] - 80s 505ms/step - loss: 3.9057 - accuracy: 0.1209 - val_loss: 4.0887 - val_accuracy: 0.1061\n",
            "Epoch 15/50\n",
            "159/159 [==============================] - 82s 515ms/step - loss: 3.8856 - accuracy: 0.1223 - val_loss: 4.1143 - val_accuracy: 0.1127\n",
            "Epoch 16/50\n",
            "159/159 [==============================] - 86s 539ms/step - loss: 3.8667 - accuracy: 0.1327 - val_loss: 4.0786 - val_accuracy: 0.1102\n",
            "Epoch 17/50\n",
            "159/159 [==============================] - 84s 529ms/step - loss: 3.8477 - accuracy: 0.1301 - val_loss: 4.0775 - val_accuracy: 0.1127\n",
            "Epoch 18/50\n",
            "159/159 [==============================] - 81s 507ms/step - loss: 3.8471 - accuracy: 0.1335 - val_loss: 4.0740 - val_accuracy: 0.1127\n",
            "Epoch 19/50\n",
            "159/159 [==============================] - 79s 498ms/step - loss: 3.8368 - accuracy: 0.1317 - val_loss: 4.0655 - val_accuracy: 0.1151\n",
            "Epoch 20/50\n",
            "159/159 [==============================] - 79s 495ms/step - loss: 3.8266 - accuracy: 0.1358 - val_loss: 4.0274 - val_accuracy: 0.1143\n",
            "Epoch 21/50\n",
            "159/159 [==============================] - 78s 488ms/step - loss: 3.8148 - accuracy: 0.1382 - val_loss: 4.0359 - val_accuracy: 0.1094\n",
            "Epoch 22/50\n",
            "159/159 [==============================] - 79s 496ms/step - loss: 3.7870 - accuracy: 0.1427 - val_loss: 4.0479 - val_accuracy: 0.1102\n",
            "Epoch 23/50\n",
            "159/159 [==============================] - 80s 505ms/step - loss: 3.7713 - accuracy: 0.1392 - val_loss: 4.0560 - val_accuracy: 0.1102\n",
            "Epoch 24/50\n",
            "159/159 [==============================] - 81s 507ms/step - loss: 3.7815 - accuracy: 0.1396 - val_loss: 4.0592 - val_accuracy: 0.1176\n",
            "Epoch 25/50\n",
            "159/159 [==============================] - 82s 513ms/step - loss: 3.7794 - accuracy: 0.1341 - val_loss: 4.0794 - val_accuracy: 0.1118\n",
            "Epoch 26/50\n",
            "159/159 [==============================] - 78s 490ms/step - loss: 3.7747 - accuracy: 0.1362 - val_loss: 4.0548 - val_accuracy: 0.1102\n",
            "Epoch 27/50\n",
            "159/159 [==============================] - 79s 496ms/step - loss: 3.7480 - accuracy: 0.1423 - val_loss: 4.0687 - val_accuracy: 0.1225\n",
            "Epoch 28/50\n",
            "159/159 [==============================] - 81s 508ms/step - loss: 3.7645 - accuracy: 0.1421 - val_loss: 4.0554 - val_accuracy: 0.1151\n",
            "Epoch 29/50\n",
            "159/159 [==============================] - 79s 500ms/step - loss: 3.7720 - accuracy: 0.1431 - val_loss: 4.0549 - val_accuracy: 0.1266\n",
            "Epoch 30/50\n",
            "159/159 [==============================] - 80s 504ms/step - loss: 3.7687 - accuracy: 0.1437 - val_loss: 4.0477 - val_accuracy: 0.1176\n",
            "Epoch 31/50\n",
            "159/159 [==============================] - 79s 494ms/step - loss: 3.7270 - accuracy: 0.1396 - val_loss: 4.0782 - val_accuracy: 0.1234\n",
            "Epoch 32/50\n",
            "159/159 [==============================] - 81s 507ms/step - loss: 3.7429 - accuracy: 0.1425 - val_loss: 4.0692 - val_accuracy: 0.1258\n",
            "Epoch 33/50\n",
            "159/159 [==============================] - 76s 480ms/step - loss: 3.7374 - accuracy: 0.1506 - val_loss: 4.0844 - val_accuracy: 0.1201\n",
            "Epoch 34/50\n",
            "159/159 [==============================] - 78s 491ms/step - loss: 3.7440 - accuracy: 0.1518 - val_loss: 4.0679 - val_accuracy: 0.1242\n",
            "Epoch 35/50\n",
            "159/159 [==============================] - 79s 495ms/step - loss: 3.7276 - accuracy: 0.1470 - val_loss: 4.0461 - val_accuracy: 0.1225\n",
            "Epoch 36/50\n",
            "159/159 [==============================] - 78s 491ms/step - loss: 3.7294 - accuracy: 0.1478 - val_loss: 4.0688 - val_accuracy: 0.1225\n",
            "Epoch 37/50\n",
            "159/159 [==============================] - 80s 503ms/step - loss: 3.7284 - accuracy: 0.1423 - val_loss: 4.0607 - val_accuracy: 0.1258\n",
            "Epoch 38/50\n",
            "159/159 [==============================] - 79s 498ms/step - loss: 3.7311 - accuracy: 0.1433 - val_loss: 4.0487 - val_accuracy: 0.1340\n",
            "Epoch 39/50\n",
            "159/159 [==============================] - 79s 495ms/step - loss: 3.7152 - accuracy: 0.1482 - val_loss: 4.0475 - val_accuracy: 0.1275\n",
            "Epoch 40/50\n",
            "159/159 [==============================] - 85s 535ms/step - loss: 3.6816 - accuracy: 0.1535 - val_loss: 4.0676 - val_accuracy: 0.1266\n",
            "Epoch 41/50\n",
            "159/159 [==============================] - 79s 498ms/step - loss: 3.7176 - accuracy: 0.1529 - val_loss: 4.0636 - val_accuracy: 0.1266\n",
            "Epoch 42/50\n",
            "159/159 [==============================] - 80s 500ms/step - loss: 3.6924 - accuracy: 0.1564 - val_loss: 4.0506 - val_accuracy: 0.1192\n",
            "Epoch 43/50\n",
            "159/159 [==============================] - 78s 493ms/step - loss: 3.6931 - accuracy: 0.1441 - val_loss: 4.0540 - val_accuracy: 0.1192\n",
            "Epoch 44/50\n",
            "159/159 [==============================] - 80s 504ms/step - loss: 3.7182 - accuracy: 0.1480 - val_loss: 4.0402 - val_accuracy: 0.1299\n",
            "Epoch 45/50\n",
            "159/159 [==============================] - 78s 488ms/step - loss: 3.6889 - accuracy: 0.1512 - val_loss: 4.0565 - val_accuracy: 0.1258\n",
            "Epoch 46/50\n",
            "159/159 [==============================] - 79s 500ms/step - loss: 3.7076 - accuracy: 0.1463 - val_loss: 4.0395 - val_accuracy: 0.1234\n",
            "Epoch 47/50\n",
            "159/159 [==============================] - 83s 522ms/step - loss: 3.6876 - accuracy: 0.1478 - val_loss: 4.0510 - val_accuracy: 0.1332\n",
            "Epoch 48/50\n",
            "159/159 [==============================] - 80s 501ms/step - loss: 3.6967 - accuracy: 0.1486 - val_loss: 4.0483 - val_accuracy: 0.1258\n",
            "Epoch 49/50\n",
            "159/159 [==============================] - 68s 428ms/step - loss: 3.6849 - accuracy: 0.1527 - val_loss: 4.0638 - val_accuracy: 0.1308\n",
            "Epoch 50/50\n",
            "159/159 [==============================] - 86s 540ms/step - loss: 3.6384 - accuracy: 0.1577 - val_loss: 4.0770 - val_accuracy: 0.1225\n"
          ]
        }
      ]
    },
    {
      "cell_type": "code",
      "metadata": {
        "id": "7aede375",
        "outputId": "10b6936d-2e12-438a-e378-0f6e6d09d052"
      },
      "source": [
        "print(\"Accuracy of the Basic Model = \",max(history_tl.history[\"accuracy\"]))\n",
        "print(\"Loss of the Basic Model = \",max(history_tl.history[\"loss\"]))"
      ],
      "id": "7aede375",
      "execution_count": null,
      "outputs": [
        {
          "name": "stdout",
          "output_type": "stream",
          "text": [
            "Accuracy of the Basic Model =  0.15765677392482758\n",
            "Loss of the Basic Model =  4.573671817779541\n"
          ]
        }
      ]
    },
    {
      "cell_type": "markdown",
      "metadata": {
        "id": "67d7df6a"
      },
      "source": [
        "### Plot results of accuracy for Transfer Learning Model"
      ],
      "id": "67d7df6a"
    },
    {
      "cell_type": "code",
      "metadata": {
        "id": "516b51d9",
        "outputId": "09521908-a6ec-4916-9107-3a0767542d1b"
      },
      "source": [
        "def plot_history1(history):\n",
        "  plt.figure()\n",
        "  plt.xlabel('Epoch')\n",
        "  plt.ylabel('Accuracy')\n",
        "  plt.plot(history.epoch, np.array(history.history['accuracy']),\n",
        "           label='Train accuracy')\n",
        "  plt.plot(history.epoch, np.array(history.history['val_accuracy']),\n",
        "           label = 'Val accuracy')\n",
        "  plt.legend()\n",
        "  plt.ylim([0, 0.2])\n",
        "\n",
        "plot_history1(history_tl)\n",
        "print('Transfer Learning Model')"
      ],
      "id": "516b51d9",
      "execution_count": null,
      "outputs": [
        {
          "name": "stdout",
          "output_type": "stream",
          "text": [
            "Transfer Learning Model\n"
          ]
        },
        {
          "data": {
            "image/png": "[encoded data removed]",
            "text/plain": [
              "<Figure size 432x288 with 1 Axes>"
            ]
          },
          "metadata": {
            "needs_background": "light"
          },
          "output_type": "display_data"
        }
      ]
    },
    {
      "cell_type": "markdown",
      "metadata": {
        "id": "526a44c5"
      },
      "source": [
        "**From the plot results of accuracy, val accuracy is higher than train accuracy from epoch 0 to 12 => the model is underfitting\n",
        "From epoch 12 to 50, training accuracy is higher than val accuracy => The model is overfitting**"
      ],
      "id": "526a44c5"
    },
    {
      "cell_type": "markdown",
      "metadata": {
        "id": "5c54bfb0"
      },
      "source": [
        "### Plot results of loss for Transfer Learning Model"
      ],
      "id": "5c54bfb0"
    },
    {
      "cell_type": "code",
      "metadata": {
        "scrolled": true,
        "id": "ac05cbd1",
        "outputId": "5eae249a-4d5a-4b9b-f5c8-f3edbf3c111d"
      },
      "source": [
        "def plot_history2(history):\n",
        "  plt.figure()\n",
        "  plt.xlabel('Epoch')\n",
        "  plt.ylabel('loss')\n",
        "  plt.plot(history.epoch, np.array(history.history['loss']),\n",
        "           label='Train loss')\n",
        "  plt.plot(history.epoch, np.array(history.history['val_loss']),\n",
        "           label = 'Val loss')\n",
        "  plt.legend()\n",
        "  plt.ylim([0, 6])\n",
        "\n",
        "plot_history2(history_tl)"
      ],
      "id": "ac05cbd1",
      "execution_count": null,
      "outputs": [
        {
          "data": {
            "image/png": "[encoded data removed]",
            "text/plain": [
              "<Figure size 432x288 with 1 Axes>"
            ]
          },
          "metadata": {
            "needs_background": "light"
          },
          "output_type": "display_data"
        }
      ]
    },
    {
      "cell_type": "markdown",
      "metadata": {
        "id": "bb38fe17"
      },
      "source": [
        "**From the plot results for loss, val loss is higher than train loss => There is no generalization error and the model is overfitting**\n"
      ],
      "id": "bb38fe17"
    },
    {
      "cell_type": "markdown",
      "metadata": {
        "id": "da7ef1df"
      },
      "source": [
        "## Compare the Transfer Learning Model with Basic Model and Naive Model\n",
        "\n",
        "### Both Basic model and Transfer Learning Model are better than the Naive Model but they are overfitting. However, the highest accuracy for basic model is 36% at epoch 42 and The highest accuracy for the transfer learning model is 16% at epoch 50 => The basic model is best "
      ],
      "id": "da7ef1df"
    }
  ]
}